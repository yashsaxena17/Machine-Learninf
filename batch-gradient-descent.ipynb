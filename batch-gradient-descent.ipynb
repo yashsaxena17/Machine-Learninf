{
 "cells": [
  {
   "cell_type": "markdown",
   "id": "e6cafd07",
   "metadata": {
    "papermill": {
     "duration": 0.014186,
     "end_time": "2021-09-20T20:10:45.435997",
     "exception": false,
     "start_time": "2021-09-20T20:10:45.421811",
     "status": "completed"
    },
    "tags": []
   },
   "source": [
    "# In this notebook we'll apply batch gradient descent from scratch.\n",
    "\n",
    "## Gradient Descent\n",
    "**The goal of the gradient descent is to minimise a given function which, in our case, is the loss function of the mode. To achieve this goal, it performs two steps iteratively.**\n",
    "1. Compute the slope (gradient) that is the first-order derivative of the function at the current point\n",
    "2. Move-in the opposite direction of the slope increase from the current point by the computed amount\n",
    "\n",
    "![](https://miro.medium.com/max/875/1*P7z2BKhd0R-9uyn9ThDasA.png)\n",
    "\n",
    "## Batch Gradient Descent\n",
    "**In Batch Gradient Descent, all the training data is taken into consideration to take a single step. We take the average of the gradients of all the training examples and then use that mean gradient to update our parameters. So that’s just one step of gradient descent in one epoch.**\n",
    "***Batch Gradient Descent is great for convex or relatively smooth error manifolds.***\n",
    "\n",
    "![](https://miro.medium.com/max/735/1*44QbDJ9gJvw8tXtHNVLoCA.png)\n",
    "\n",
    "*Documentation reference is from www.towardsdatascience.com"
   ]
  },
  {
   "cell_type": "code",
   "execution_count": 1,
   "id": "ab7c5c42",
   "metadata": {
    "_cell_guid": "b1076dfc-b9ad-4769-8c92-a6c4dae69d19",
    "_uuid": "8f2839f25d086af736a60e9eeb907d3b93b6e0e5",
    "execution": {
     "iopub.execute_input": "2021-09-20T20:10:45.478383Z",
     "iopub.status.busy": "2021-09-20T20:10:45.477533Z",
     "iopub.status.idle": "2021-09-20T20:10:46.595710Z",
     "shell.execute_reply": "2021-09-20T20:10:46.594958Z",
     "shell.execute_reply.started": "2021-09-20T20:09:25.862951Z"
    },
    "papermill": {
     "duration": 1.14431,
     "end_time": "2021-09-20T20:10:46.595884",
     "exception": false,
     "start_time": "2021-09-20T20:10:45.451574",
     "status": "completed"
    },
    "tags": []
   },
   "outputs": [],
   "source": [
    "# importing libraries and using inbuilt dataset for this process.\n",
    "from sklearn.datasets import load_diabetes  \n",
    "\n",
    "import numpy as np\n",
    "from sklearn.linear_model import LinearRegression\n",
    "from sklearn.metrics import r2_score\n",
    "from sklearn.model_selection import train_test_split"
   ]
  },
  {
   "cell_type": "code",
   "execution_count": 2,
   "id": "652931e2",
   "metadata": {
    "execution": {
     "iopub.execute_input": "2021-09-20T20:10:46.627701Z",
     "iopub.status.busy": "2021-09-20T20:10:46.626984Z",
     "iopub.status.idle": "2021-09-20T20:10:46.645787Z",
     "shell.execute_reply": "2021-09-20T20:10:46.646342Z",
     "shell.execute_reply.started": "2021-09-20T20:09:26.061061Z"
    },
    "papermill": {
     "duration": 0.037385,
     "end_time": "2021-09-20T20:10:46.646527",
     "exception": false,
     "start_time": "2021-09-20T20:10:46.609142",
     "status": "completed"
    },
    "tags": []
   },
   "outputs": [],
   "source": [
    "X,y = load_diabetes(return_X_y=True)"
   ]
  },
  {
   "cell_type": "code",
   "execution_count": 3,
   "id": "430725f0",
   "metadata": {
    "execution": {
     "iopub.execute_input": "2021-09-20T20:10:46.675897Z",
     "iopub.status.busy": "2021-09-20T20:10:46.675246Z",
     "iopub.status.idle": "2021-09-20T20:10:46.681506Z",
     "shell.execute_reply": "2021-09-20T20:10:46.680880Z",
     "shell.execute_reply.started": "2021-09-20T20:09:26.348818Z"
    },
    "papermill": {
     "duration": 0.021839,
     "end_time": "2021-09-20T20:10:46.681658",
     "exception": false,
     "start_time": "2021-09-20T20:10:46.659819",
     "status": "completed"
    },
    "tags": []
   },
   "outputs": [
    {
     "name": "stdout",
     "output_type": "stream",
     "text": [
      "(442, 10)\n",
      "(442,)\n"
     ]
    }
   ],
   "source": [
    "print(X.shape)\n",
    "print(y.shape)"
   ]
  },
  {
   "cell_type": "code",
   "execution_count": 4,
   "id": "9b61c611",
   "metadata": {
    "execution": {
     "iopub.execute_input": "2021-09-20T20:10:46.718254Z",
     "iopub.status.busy": "2021-09-20T20:10:46.717426Z",
     "iopub.status.idle": "2021-09-20T20:10:46.721578Z",
     "shell.execute_reply": "2021-09-20T20:10:46.721037Z",
     "shell.execute_reply.started": "2021-09-20T20:09:26.499338Z"
    },
    "papermill": {
     "duration": 0.026479,
     "end_time": "2021-09-20T20:10:46.721748",
     "exception": false,
     "start_time": "2021-09-20T20:10:46.695269",
     "status": "completed"
    },
    "tags": []
   },
   "outputs": [],
   "source": [
    "X_train,X_test,y_train,y_test = train_test_split(X,y,test_size=0.2,random_state=2)  # train test split"
   ]
  },
  {
   "cell_type": "code",
   "execution_count": 5,
   "id": "c33b1310",
   "metadata": {
    "execution": {
     "iopub.execute_input": "2021-09-20T20:10:46.770710Z",
     "iopub.status.busy": "2021-09-20T20:10:46.753710Z",
     "iopub.status.idle": "2021-09-20T20:10:46.777108Z",
     "shell.execute_reply": "2021-09-20T20:10:46.777553Z",
     "shell.execute_reply.started": "2021-09-20T20:09:26.726788Z"
    },
    "papermill": {
     "duration": 0.042442,
     "end_time": "2021-09-20T20:10:46.777740",
     "exception": false,
     "start_time": "2021-09-20T20:10:46.735298",
     "status": "completed"
    },
    "tags": []
   },
   "outputs": [
    {
     "data": {
      "text/plain": [
       "LinearRegression()"
      ]
     },
     "execution_count": 5,
     "metadata": {},
     "output_type": "execute_result"
    }
   ],
   "source": [
    "reg = LinearRegression()\n",
    "reg.fit(X_train,y_train)"
   ]
  },
  {
   "cell_type": "code",
   "execution_count": 6,
   "id": "140e4299",
   "metadata": {
    "execution": {
     "iopub.execute_input": "2021-09-20T20:10:46.810980Z",
     "iopub.status.busy": "2021-09-20T20:10:46.810086Z",
     "iopub.status.idle": "2021-09-20T20:10:46.815087Z",
     "shell.execute_reply": "2021-09-20T20:10:46.814191Z",
     "shell.execute_reply.started": "2021-09-20T20:09:26.943700Z"
    },
    "papermill": {
     "duration": 0.023902,
     "end_time": "2021-09-20T20:10:46.815279",
     "exception": false,
     "start_time": "2021-09-20T20:10:46.791377",
     "status": "completed"
    },
    "tags": []
   },
   "outputs": [
    {
     "name": "stdout",
     "output_type": "stream",
     "text": [
      "[  -9.16088483 -205.46225988  516.68462383  340.62734108 -895.54360867\n",
      "  561.21453306  153.88478595  126.73431596  861.12139955   52.41982836]\n",
      "151.88334520854633\n"
     ]
    }
   ],
   "source": [
    "print(reg.coef_)\n",
    "print(reg.intercept_)"
   ]
  },
  {
   "cell_type": "markdown",
   "id": "ec2010ce",
   "metadata": {
    "papermill": {
     "duration": 0.013848,
     "end_time": "2021-09-20T20:10:46.844154",
     "exception": false,
     "start_time": "2021-09-20T20:10:46.830306",
     "status": "completed"
    },
    "tags": []
   },
   "source": [
    "## R2 Score\n",
    "![](https://wikimedia.org/api/rest_v1/media/math/render/svg/6b863cb70dd04b45984983cb6ed00801d5eddc94)\n",
    "\n",
    "*R-squared is a statistical measure of how close the data are to the fitted regression line. It is also known as the coefficient of determination, or the coefficient of multiple determination for multiple regression. ... 100% indicates that the model explains all the variability of the response data around its mean*"
   ]
  },
  {
   "cell_type": "code",
   "execution_count": 7,
   "id": "e28f962e",
   "metadata": {
    "execution": {
     "iopub.execute_input": "2021-09-20T20:10:46.879915Z",
     "iopub.status.busy": "2021-09-20T20:10:46.878997Z",
     "iopub.status.idle": "2021-09-20T20:10:46.882986Z",
     "shell.execute_reply": "2021-09-20T20:10:46.882405Z",
     "shell.execute_reply.started": "2021-09-20T20:09:27.791615Z"
    },
    "papermill": {
     "duration": 0.02483,
     "end_time": "2021-09-20T20:10:46.883126",
     "exception": false,
     "start_time": "2021-09-20T20:10:46.858296",
     "status": "completed"
    },
    "tags": []
   },
   "outputs": [
    {
     "data": {
      "text/plain": [
       "0.4399387660024644"
      ]
     },
     "execution_count": 7,
     "metadata": {},
     "output_type": "execute_result"
    }
   ],
   "source": [
    "y_pred = reg.predict(X_test)\n",
    "r2_score(y_test,y_pred)"
   ]
  },
  {
   "cell_type": "code",
   "execution_count": 8,
   "id": "20f7bfab",
   "metadata": {
    "execution": {
     "iopub.execute_input": "2021-09-20T20:10:46.922151Z",
     "iopub.status.busy": "2021-09-20T20:10:46.921224Z",
     "iopub.status.idle": "2021-09-20T20:10:46.924740Z",
     "shell.execute_reply": "2021-09-20T20:10:46.925221Z",
     "shell.execute_reply.started": "2021-09-20T20:09:27.996862Z"
    },
    "papermill": {
     "duration": 0.025944,
     "end_time": "2021-09-20T20:10:46.925388",
     "exception": false,
     "start_time": "2021-09-20T20:10:46.899444",
     "status": "completed"
    },
    "tags": []
   },
   "outputs": [
    {
     "data": {
      "text/plain": [
       "(353, 10)"
      ]
     },
     "execution_count": 8,
     "metadata": {},
     "output_type": "execute_result"
    }
   ],
   "source": [
    "X_train.shape"
   ]
  },
  {
   "cell_type": "markdown",
   "id": "01a16e1a",
   "metadata": {
    "papermill": {
     "duration": 0.024743,
     "end_time": "2021-09-20T20:10:46.969562",
     "exception": false,
     "start_time": "2021-09-20T20:10:46.944819",
     "status": "completed"
    },
    "tags": []
   },
   "source": [
    "## Updating intercept \n",
    "![](https://miro.medium.com/max/1192/0*VHSZPjAofkxFk3i2.png)\n",
    "\n",
    "**Step 1**\n",
    "\n",
    "For Calculating y hat we'll use matrix multiplication(dot product) of coefficint(matrix) and X_train(matrix).\n",
    "\n",
    "**Step2**\n",
    "\n",
    "Now, using y hat calculate the derivative which is the mean of (y_train - y hat) which is clearly shown in formula in above image.\n",
    "\n",
    "**Step 3**\n",
    "\n",
    "Now, we've calculated the derivative of the loss function w.r.t to intercept. So, new intercept will be (i_old - learning_rate*intercept_derivative)\n",
    "\n",
    "## Updating Coefficients\n",
    "\n",
    "**Step 1**\n",
    "\n",
    "We know that number of coefficient is equal to the number of features, so we have to calculate that many derivatives in one run.\n",
    "By multiplying whole X_train in form of matrix using dot product with each derivative in above image will do the work.\n",
    "\n",
    "**Step 2**\n",
    "\n",
    "(coef_old - learning_rate*coef_derivative)\n",
    "\n",
    "Now we have a vector of coef_derivatives easily\n",
    "\n",
    "***IMPLEMENTATION*** "
   ]
  },
  {
   "cell_type": "code",
   "execution_count": 9,
   "id": "c14953e2",
   "metadata": {
    "execution": {
     "iopub.execute_input": "2021-09-20T20:10:47.021433Z",
     "iopub.status.busy": "2021-09-20T20:10:47.020299Z",
     "iopub.status.idle": "2021-09-20T20:10:47.022965Z",
     "shell.execute_reply": "2021-09-20T20:10:47.023437Z",
     "shell.execute_reply.started": "2021-09-20T20:09:28.861687Z"
    },
    "papermill": {
     "duration": 0.032937,
     "end_time": "2021-09-20T20:10:47.023628",
     "exception": false,
     "start_time": "2021-09-20T20:10:46.990691",
     "status": "completed"
    },
    "tags": []
   },
   "outputs": [],
   "source": [
    "class GDRegressor:\n",
    "    \n",
    "    def __init__(self,learning_rate=0.01,epochs=100):\n",
    "        \n",
    "        self.coef_ = None\n",
    "        self.intercept_ = None\n",
    "        self.lr = learning_rate\n",
    "        self.epochs = epochs\n",
    "        \n",
    "    def fit(self,X_train,y_train):\n",
    "        # init your coefficients from X_train because coefficients are equal to the number of features\n",
    "        self.intercept_ = 0\n",
    "        self.coef_ = np.ones(X_train.shape[1]) # [1] take the columns from (353, 10) <-- shape of X_train\n",
    "        \n",
    "        for i in range(self.epochs):\n",
    "            # update all the coefficients and the intercept\n",
    "            y_hat = np.dot(X_train,self.coef_) + self.intercept_\n",
    "            #print(\"Shape of y_hat\",y_hat.shape)\n",
    "            intercept_der = -2 * np.mean(y_train - y_hat)\n",
    "            self.intercept_ = self.intercept_ - (self.lr * intercept_der)\n",
    "            \n",
    "            coef_der = -2 * np.dot((y_train - y_hat),X_train)/X_train.shape[0]\n",
    "            self.coef_ = self.coef_ - (self.lr * coef_der)\n",
    "        \n",
    "        print(self.intercept_,self.coef_)\n",
    "    \n",
    "    def predict(self,X_test):\n",
    "        return np.dot(X_test,self.coef_) + self.intercept_"
   ]
  },
  {
   "cell_type": "code",
   "execution_count": 10,
   "id": "7c1c8fcf",
   "metadata": {
    "execution": {
     "iopub.execute_input": "2021-09-20T20:10:47.058492Z",
     "iopub.status.busy": "2021-09-20T20:10:47.057722Z",
     "iopub.status.idle": "2021-09-20T20:10:47.060192Z",
     "shell.execute_reply": "2021-09-20T20:10:47.059561Z",
     "shell.execute_reply.started": "2021-09-20T20:09:54.138277Z"
    },
    "papermill": {
     "duration": 0.021837,
     "end_time": "2021-09-20T20:10:47.060324",
     "exception": false,
     "start_time": "2021-09-20T20:10:47.038487",
     "status": "completed"
    },
    "tags": []
   },
   "outputs": [],
   "source": [
    "gdr = GDRegressor(epochs=1000,learning_rate=0.5)  # building model"
   ]
  },
  {
   "cell_type": "code",
   "execution_count": 11,
   "id": "a71feb73",
   "metadata": {
    "execution": {
     "iopub.execute_input": "2021-09-20T20:10:47.097324Z",
     "iopub.status.busy": "2021-09-20T20:10:47.094025Z",
     "iopub.status.idle": "2021-09-20T20:10:47.146574Z",
     "shell.execute_reply": "2021-09-20T20:10:47.147122Z",
     "shell.execute_reply.started": "2021-09-20T20:09:54.277160Z"
    },
    "papermill": {
     "duration": 0.071541,
     "end_time": "2021-09-20T20:10:47.147306",
     "exception": false,
     "start_time": "2021-09-20T20:10:47.075765",
     "status": "completed"
    },
    "tags": []
   },
   "outputs": [
    {
     "name": "stdout",
     "output_type": "stream",
     "text": [
      "152.0135263267291 [  14.38915082 -173.72674118  491.54504015  323.91983579  -39.32680194\n",
      " -116.01099114 -194.04229501  103.38216641  451.63385893   97.57119174]\n"
     ]
    }
   ],
   "source": [
    "gdr.fit(X_train,y_train)  # fitting data"
   ]
  },
  {
   "cell_type": "code",
   "execution_count": 12,
   "id": "c9b7ec1c",
   "metadata": {
    "execution": {
     "iopub.execute_input": "2021-09-20T20:10:47.183290Z",
     "iopub.status.busy": "2021-09-20T20:10:47.182153Z",
     "iopub.status.idle": "2021-09-20T20:10:47.185196Z",
     "shell.execute_reply": "2021-09-20T20:10:47.184548Z",
     "shell.execute_reply.started": "2021-09-20T20:09:54.430759Z"
    },
    "papermill": {
     "duration": 0.022533,
     "end_time": "2021-09-20T20:10:47.185347",
     "exception": false,
     "start_time": "2021-09-20T20:10:47.162814",
     "status": "completed"
    },
    "tags": []
   },
   "outputs": [],
   "source": [
    "y_pred = gdr.predict(X_test)  # testing on X_test"
   ]
  },
  {
   "cell_type": "code",
   "execution_count": 13,
   "id": "120c54cb",
   "metadata": {
    "execution": {
     "iopub.execute_input": "2021-09-20T20:10:47.223923Z",
     "iopub.status.busy": "2021-09-20T20:10:47.220402Z",
     "iopub.status.idle": "2021-09-20T20:10:47.228152Z",
     "shell.execute_reply": "2021-09-20T20:10:47.227514Z",
     "shell.execute_reply.started": "2021-09-20T20:09:54.588912Z"
    },
    "papermill": {
     "duration": 0.025982,
     "end_time": "2021-09-20T20:10:47.228292",
     "exception": false,
     "start_time": "2021-09-20T20:10:47.202310",
     "status": "completed"
    },
    "tags": []
   },
   "outputs": [
    {
     "data": {
      "text/plain": [
       "0.4534524671450598"
      ]
     },
     "execution_count": 13,
     "metadata": {},
     "output_type": "execute_result"
    }
   ],
   "source": [
    "r2_score(y_test,y_pred)  # improved r2_score, changing the learning rate will tune r2_score"
   ]
  }
 ],
 "metadata": {
  "kernelspec": {
   "display_name": "Python 3",
   "language": "python",
   "name": "python3"
  },
  "language_info": {
   "codemirror_mode": {
    "name": "ipython",
    "version": 3
   },
   "file_extension": ".py",
   "mimetype": "text/x-python",
   "name": "python",
   "nbconvert_exporter": "python",
   "pygments_lexer": "ipython3",
   "version": "3.7.10"
  },
  "papermill": {
   "default_parameters": {},
   "duration": 10.736983,
   "end_time": "2021-09-20T20:10:47.853787",
   "environment_variables": {},
   "exception": null,
   "input_path": "__notebook__.ipynb",
   "output_path": "__notebook__.ipynb",
   "parameters": {},
   "start_time": "2021-09-20T20:10:37.116804",
   "version": "2.3.3"
  }
 },
 "nbformat": 4,
 "nbformat_minor": 5
}
